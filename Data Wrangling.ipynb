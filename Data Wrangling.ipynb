{
  "nbformat": 4,
  "nbformat_minor": 0,
  "metadata": {
    "colab": {
      "provenance": []
    },
    "kernelspec": {
      "name": "python3",
      "display_name": "Python 3"
    },
    "language_info": {
      "name": "python"
    }
  },
  "cells": [
    {
      "cell_type": "code",
      "execution_count": 1,
      "metadata": {
        "id": "7jBBGFZd36Ri"
      },
      "outputs": [],
      "source": [
        "import pandas as pd"
      ]
    },
    {
      "cell_type": "code",
      "source": [
        "# Summary statistics\n",
        "#data = pd.read_csv('data.csv')\n",
        "data = pd.read_excel('Data.xlsx')\n",
        "summary = data.describe()\n",
        "print(summary)"
      ],
      "metadata": {
        "colab": {
          "base_uri": "https://localhost:8080/"
        },
        "id": "uD4vvUx74w9d",
        "outputId": "aa6c3108-657c-4a8a-bcaf-828e13332e62"
      },
      "execution_count": 7,
      "outputs": [
        {
          "output_type": "stream",
          "name": "stdout",
          "text": [
            "       TransactionID                           Date   CustomerID  \\\n",
            "count    10000.00000                          10000  10000.00000   \n",
            "mean      5000.50000  2021-05-31 23:03:41.760000256    251.93300   \n",
            "min          1.00000            2018-11-01 00:00:00      1.00000   \n",
            "25%       2500.75000            2019-12-02 00:00:00    127.00000   \n",
            "50%       5000.50000            2021-11-01 00:00:00    254.00000   \n",
            "75%       7500.25000            2022-11-30 00:00:00    379.00000   \n",
            "max      10000.00000            2023-12-31 00:00:00    500.00000   \n",
            "std       2886.89568                            NaN    145.00392   \n",
            "\n",
            "                Age      StoreID     ProductID      Quantity     UnitPrice  \\\n",
            "count  10000.000000  4582.000000  10000.000000  10000.000000  10000.000000   \n",
            "mean      43.791700    50.920559    500.234800      3.010600     54.962118   \n",
            "min       18.000000     1.000000      1.000000      1.000000     10.003242   \n",
            "25%       30.000000    26.000000    252.000000      2.000000     32.053314   \n",
            "50%       44.000000    51.000000    500.000000      3.000000     55.035737   \n",
            "75%       57.000000    76.000000    750.000000      4.000000     77.849652   \n",
            "max       70.000000   100.000000   1000.000000      5.000000     99.996579   \n",
            "std       15.366585    28.864546    288.741317      1.404452     26.239370   \n",
            "\n",
            "         TotalPrice  DiscountAmount  DeliveryTime  CustomerSatisfaction  \n",
            "count  10000.000000    10000.000000   5418.000000          10000.000000  \n",
            "mean     165.426015        6.954545      3.004245              2.982500  \n",
            "min       10.017153        0.000000      1.000000              1.000000  \n",
            "25%       71.897205        0.000000      2.000000              2.000000  \n",
            "50%      136.291203        0.000000      3.000000              3.000000  \n",
            "75%      241.049782       10.407700      4.000000              4.000000  \n",
            "max      499.982894       49.945866      5.000000              5.000000  \n",
            "std      116.107776       11.075408      1.419484              1.419153  \n"
          ]
        }
      ]
    },
    {
      "cell_type": "code",
      "source": [
        "data.info()"
      ],
      "metadata": {
        "colab": {
          "base_uri": "https://localhost:8080/"
        },
        "id": "oSsSGFOx7wey",
        "outputId": "3f6176fc-d062-430e-ea8e-f550d878b525"
      },
      "execution_count": 8,
      "outputs": [
        {
          "output_type": "stream",
          "name": "stdout",
          "text": [
            "<class 'pandas.core.frame.DataFrame'>\n",
            "RangeIndex: 10000 entries, 0 to 9999\n",
            "Data columns (total 25 columns):\n",
            " #   Column                Non-Null Count  Dtype         \n",
            "---  ------                --------------  -----         \n",
            " 0   TransactionID         10000 non-null  int64         \n",
            " 1   Date                  10000 non-null  datetime64[ns]\n",
            " 2   Time                  10000 non-null  object        \n",
            " 3   CustomerID            10000 non-null  int64         \n",
            " 4   Age                   10000 non-null  int64         \n",
            " 5   Gender                10000 non-null  object        \n",
            " 6   Location              10000 non-null  object        \n",
            " 7   StoreID               4582 non-null   float64       \n",
            " 8   OnlineOrderFlag       10000 non-null  bool          \n",
            " 9   ProductID             10000 non-null  int64         \n",
            " 10  ProductName           10000 non-null  object        \n",
            " 11  Category              10000 non-null  object        \n",
            " 12  Quantity              10000 non-null  int64         \n",
            " 13  UnitPrice             10000 non-null  float64       \n",
            " 14  TotalPrice            10000 non-null  float64       \n",
            " 15  PaymentType           10000 non-null  object        \n",
            " 16  PromotionApplied      10000 non-null  bool          \n",
            " 17  DiscountAmount        10000 non-null  float64       \n",
            " 18  GiftWrap              10000 non-null  bool          \n",
            " 19  ShippingMethod        5418 non-null   object        \n",
            " 20  DeliveryTime          5418 non-null   float64       \n",
            " 21  Weather               10000 non-null  object        \n",
            " 22  Event                 7162 non-null   object        \n",
            " 23  CustomerSatisfaction  10000 non-null  int64         \n",
            " 24  ReturnFlag            10000 non-null  bool          \n",
            "dtypes: bool(4), datetime64[ns](1), float64(5), int64(6), object(9)\n",
            "memory usage: 1.6+ MB\n"
          ]
        }
      ]
    },
    {
      "cell_type": "code",
      "source": [
        "column_name = 'Event'  # Replace with your actual column name\n",
        "\n",
        "missing_count = data[column_name].isnull().sum()\n",
        "total_rows = len(data)\n",
        "\n",
        "print(f\"Missing values in '{column_name}': {missing_count}\")\n",
        "print(f\"Total rows in the DataFrame: {total_rows}\")\n",
        "print(f\"Percentage of missing values: {missing_count / total_rows * 100:.2f}%\")\n",
        "\n",
        "\n",
        "\n",
        "print(f\"Values in '{column_name}':\")\n",
        "print(data[column_name])"
      ],
      "metadata": {
        "colab": {
          "base_uri": "https://localhost:8080/"
        },
        "id": "0zlMoUAP9zso",
        "outputId": "6516f356-15d5-4fd3-bec0-f817c6376cb9"
      },
      "execution_count": 11,
      "outputs": [
        {
          "output_type": "stream",
          "name": "stdout",
          "text": [
            "Missing values in 'Event': 2838\n",
            "Total rows in the DataFrame: 10000\n",
            "Percentage of missing values: 28.38%\n",
            "Values in 'Event':\n",
            "0                    NaN\n",
            "1                    NaN\n",
            "2       Christmas Market\n",
            "3                    NaN\n",
            "4       Christmas Market\n",
            "              ...       \n",
            "9995        Black Friday\n",
            "9996        Black Friday\n",
            "9997        Black Friday\n",
            "9998    Christmas Market\n",
            "9999    Christmas Market\n",
            "Name: Event, Length: 10000, dtype: object\n"
          ]
        }
      ]
    },
    {
      "cell_type": "code",
      "source": [
        "# the Store ID has missings because the orders were online not from the store\n",
        "data['StoreID'].fillna('Online Order', inplace=True)  # Use -1 as a placeholder for online orders\n",
        "\n",
        "# the shipping method has missings because the orders were picked from the store\n",
        "data['ShippingMethod'].fillna('In-Store Pickup', inplace=True)\n",
        "\n",
        "data['DeliveryTime'].fillna(0, inplace=True)  # Set to 0 for in-store pickups\n",
        "\n",
        "data['Event'].fillna('No Event', inplace=True)  # the missings in the event col is bec there is no Event"
      ],
      "metadata": {
        "id": "nTICFWyi_P9o"
      },
      "execution_count": 13,
      "outputs": []
    },
    {
      "cell_type": "code",
      "source": [
        "data.info()"
      ],
      "metadata": {
        "colab": {
          "base_uri": "https://localhost:8080/"
        },
        "id": "sawGq6_dHiBe",
        "outputId": "30f22154-024d-4a9d-ad3d-c33f608923d5"
      },
      "execution_count": 14,
      "outputs": [
        {
          "output_type": "stream",
          "name": "stdout",
          "text": [
            "<class 'pandas.core.frame.DataFrame'>\n",
            "RangeIndex: 10000 entries, 0 to 9999\n",
            "Data columns (total 25 columns):\n",
            " #   Column                Non-Null Count  Dtype         \n",
            "---  ------                --------------  -----         \n",
            " 0   TransactionID         10000 non-null  int64         \n",
            " 1   Date                  10000 non-null  datetime64[ns]\n",
            " 2   Time                  10000 non-null  object        \n",
            " 3   CustomerID            10000 non-null  int64         \n",
            " 4   Age                   10000 non-null  int64         \n",
            " 5   Gender                10000 non-null  object        \n",
            " 6   Location              10000 non-null  object        \n",
            " 7   StoreID               10000 non-null  object        \n",
            " 8   OnlineOrderFlag       10000 non-null  bool          \n",
            " 9   ProductID             10000 non-null  int64         \n",
            " 10  ProductName           10000 non-null  object        \n",
            " 11  Category              10000 non-null  object        \n",
            " 12  Quantity              10000 non-null  int64         \n",
            " 13  UnitPrice             10000 non-null  float64       \n",
            " 14  TotalPrice            10000 non-null  float64       \n",
            " 15  PaymentType           10000 non-null  object        \n",
            " 16  PromotionApplied      10000 non-null  bool          \n",
            " 17  DiscountAmount        10000 non-null  float64       \n",
            " 18  GiftWrap              10000 non-null  bool          \n",
            " 19  ShippingMethod        10000 non-null  object        \n",
            " 20  DeliveryTime          10000 non-null  float64       \n",
            " 21  Weather               10000 non-null  object        \n",
            " 22  Event                 10000 non-null  object        \n",
            " 23  CustomerSatisfaction  10000 non-null  int64         \n",
            " 24  ReturnFlag            10000 non-null  bool          \n",
            "dtypes: bool(4), datetime64[ns](1), float64(4), int64(6), object(10)\n",
            "memory usage: 1.6+ MB\n"
          ]
        }
      ]
    },
    {
      "cell_type": "code",
      "source": [
        "from google.colab import files\n",
        "\n",
        "data.to_excel('Cleaned_Data.xlsx', sheet_name='Cleaned Data', index=False)\n",
        "\n",
        "# Download the cleaned Excel file\n",
        "files.download('Cleaned_Data.xlsx')\n"
      ],
      "metadata": {
        "colab": {
          "base_uri": "https://localhost:8080/",
          "height": 17
        },
        "id": "rRIdeUzJHpIo",
        "outputId": "91e5d993-3401-47a0-f525-ab8f2de65d90"
      },
      "execution_count": 15,
      "outputs": [
        {
          "output_type": "display_data",
          "data": {
            "text/plain": [
              "<IPython.core.display.Javascript object>"
            ],
            "application/javascript": [
              "\n",
              "    async function download(id, filename, size) {\n",
              "      if (!google.colab.kernel.accessAllowed) {\n",
              "        return;\n",
              "      }\n",
              "      const div = document.createElement('div');\n",
              "      const label = document.createElement('label');\n",
              "      label.textContent = `Downloading \"${filename}\": `;\n",
              "      div.appendChild(label);\n",
              "      const progress = document.createElement('progress');\n",
              "      progress.max = size;\n",
              "      div.appendChild(progress);\n",
              "      document.body.appendChild(div);\n",
              "\n",
              "      const buffers = [];\n",
              "      let downloaded = 0;\n",
              "\n",
              "      const channel = await google.colab.kernel.comms.open(id);\n",
              "      // Send a message to notify the kernel that we're ready.\n",
              "      channel.send({})\n",
              "\n",
              "      for await (const message of channel.messages) {\n",
              "        // Send a message to notify the kernel that we're ready.\n",
              "        channel.send({})\n",
              "        if (message.buffers) {\n",
              "          for (const buffer of message.buffers) {\n",
              "            buffers.push(buffer);\n",
              "            downloaded += buffer.byteLength;\n",
              "            progress.value = downloaded;\n",
              "          }\n",
              "        }\n",
              "      }\n",
              "      const blob = new Blob(buffers, {type: 'application/binary'});\n",
              "      const a = document.createElement('a');\n",
              "      a.href = window.URL.createObjectURL(blob);\n",
              "      a.download = filename;\n",
              "      div.appendChild(a);\n",
              "      a.click();\n",
              "      div.remove();\n",
              "    }\n",
              "  "
            ]
          },
          "metadata": {}
        },
        {
          "output_type": "display_data",
          "data": {
            "text/plain": [
              "<IPython.core.display.Javascript object>"
            ],
            "application/javascript": [
              "download(\"download_ad361c99-fb6e-4cf1-9644-2d21c598d1b4\", \"Cleaned_Data.xlsx\", 1312383)"
            ]
          },
          "metadata": {}
        }
      ]
    }
  ]
}